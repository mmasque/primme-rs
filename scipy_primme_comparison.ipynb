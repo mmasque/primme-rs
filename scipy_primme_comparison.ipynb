{
 "cells": [
  {
   "cell_type": "code",
   "execution_count": 5,
   "metadata": {},
   "outputs": [
    {
     "name": "stdout",
     "output_type": "stream",
     "text": [
      "Generating symmetric matrix of size 2000x2000...\n",
      "SciPy smallest eigenvalue: -6.662151e-03 (computed in 0.0895 s)\n",
      "PRIMME smallest eigenvalue: -6.662151e-03 (computed in 4.8159 s)\n",
      "\n",
      "SciPy was faster by 4.7264 seconds.\n"
     ]
    }
   ],
   "source": [
    "import numpy as np\n",
    "from scipy.sparse.linalg import eigsh\n",
    "import primme\n",
    "import time \n",
    "\n",
    "def generate_symmetric_matrix(n, seed=42):\n",
    "    np.random.seed(seed)\n",
    "    A = np.random.randn(n, n)\n",
    "    return (A + A.T) / 2\n",
    "\n",
    "def compute_smallest_eigen_scipy(A, k=1, sigma=0.001):\n",
    "    # use shift-invert mode: find eigenvalues nearest sigma (0 gives smallest magnitude)\n",
    "    # which='LM' picks largest magnitude in shifted spectrum (i.e., nearest sigma)\n",
    "    vals, _ = eigsh(A, k=k, sigma=sigma, which='LM')\n",
    "    return np.sort(vals)\n",
    "\n",
    "def compute_smallest_eigen_primme(A, k=1):\n",
    "    # primme.eigsh returns (eigenvalues, eigenvectors)\n",
    "    vals = primme.eigsh(A, k=k, sigma=0.001, which='SM', return_eigenvectors=False)\n",
    "    return np.sort(vals)\n",
    "\n",
    "n = 2000  # Matrix size: adjust as needed\n",
    "print(f\"Generating symmetric matrix of size {n}x{n}...\")\n",
    "A = generate_symmetric_matrix(n)\n",
    "\n",
    "# SciPy timing\n",
    "t0 = time.time()\n",
    "vals_scipy = compute_smallest_eigen_scipy(A)\n",
    "t1 = time.time()\n",
    "scipy_time = t1 - t0\n",
    "print(f\"SciPy smallest eigenvalue: {vals_scipy[0]:.6e} (computed in {scipy_time:.4f} s)\")\n",
    "\n",
    "# PRIMME timing\n",
    "t2 = time.time()\n",
    "vals_primme = compute_smallest_eigen_primme(A)\n",
    "t3 = time.time()\n",
    "primme_time = t3 - t2\n",
    "print(f\"PRIMME smallest eigenvalue: {vals_primme[0]:.6e} (computed in {primme_time:.4f} s)\")\n",
    "\n",
    "# Comparison\n",
    "faster = 'SciPy' if scipy_time < primme_time else 'PRIMME'\n",
    "print(f\"\\n{faster} was faster by {abs(scipy_time - primme_time):.4f} seconds.\")\n"
   ]
  },
  {
   "cell_type": "code",
   "execution_count": 1,
   "metadata": {},
   "outputs": [
    {
     "data": {
      "text/plain": [
       "(13, 6)"
      ]
     },
     "execution_count": 1,
     "metadata": {},
     "output_type": "execute_result"
    }
   ],
   "source": [
    "import numpy as np\n",
    "from scipy.sparse.linalg import eigsh\n",
    "identity = np.eye(13)\n",
    "eigenvalues, eigenvectors = eigsh(identity, k=6)\n",
    "eigenvalues\n",
    "eigenvectors.shape"
   ]
  }
 ],
 "metadata": {
  "kernelspec": {
   "display_name": ".venv",
   "language": "python",
   "name": "python3"
  },
  "language_info": {
   "codemirror_mode": {
    "name": "ipython",
    "version": 3
   },
   "file_extension": ".py",
   "mimetype": "text/x-python",
   "name": "python",
   "nbconvert_exporter": "python",
   "pygments_lexer": "ipython3",
   "version": "3.13.3"
  }
 },
 "nbformat": 4,
 "nbformat_minor": 2
}
